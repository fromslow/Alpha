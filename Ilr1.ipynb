{
 "cells": [
  {
   "cell_type": "code",
   "execution_count": 1,
   "metadata": {},
   "outputs": [],
   "source": [
    "import matplotlib\n",
    "import matplotlib.pyplot as plt\n",
    "import pandas as pd\n",
    "import numpy as np\n",
    "from tqdm import tqdm\n",
    "from tqdm import notebook\n",
    "%matplotlib inline\n",
    "matplotlib.style.use('ggplot')"
   ]
  },
  {
   "cell_type": "code",
   "execution_count": 2,
   "metadata": {},
   "outputs": [],
   "source": [
    "def makemonth(data):\n",
    "        \n",
    "    month = []\n",
    "    for i in notebook.tqdm(range(len(data.index))):\n",
    "        for j in range(len(temp_rebalancing)):\n",
    "            if data.index[i] == temp_rebalancing[j]:\n",
    "                month.append(data.iloc[i])\n",
    "                \n",
    "    month_data = pd.DataFrame(month)\n",
    "    \n",
    "    return month_data"
   ]
  },
  {
   "cell_type": "code",
   "execution_count": 3,
   "metadata": {},
   "outputs": [],
   "source": [
    "#데이터 불러오기\n",
    "\n",
    "industry = pd.read_csv(\"fnguide_industry_group.csv\",parse_dates = ['date'], low_memory = False)\n",
    "industry.set_index('date', inplace = True)\n",
    "\n",
    "mkt_cap = pd.read_csv(\"market_cap.csv\",parse_dates = ['date'], low_memory = False)\n",
    "mkt_cap.set_index('date', inplace = True)\n",
    "mkt_cap = mkt_cap.shift(1) #mkt_cap 1기 전이 기준\n",
    "\n",
    "rtn = pd.read_csv(\"rtn.csv\",parse_dates = ['date'], low_memory = False)\n",
    "rtn.set_index('date', inplace = True)\n",
    "#rtn = pd.read_csv(\"return.csv\",parse_dates = ['date'], low_memory = False)\n",
    "#rtn.set_index('date', inplace = True)\n",
    "#rtn = rtn.applymap(lambda x:pd.to_numeric(str(x).replace(\",\",\"\")) if not pd.isna(x) else np.nan)\n",
    "#rtn = rtn / 100"
   ]
  },
  {
   "cell_type": "code",
   "execution_count": 4,
   "metadata": {},
   "outputs": [],
   "source": [
    "temp_rebalancing = []\n",
    "for j in range(len(mkt_cap.index)-1):\n",
    "    if mkt_cap.index.month[j] != mkt_cap.index.month[j+1]:\n",
    "        temp_rebalancing.append(mkt_cap.index[j+1])"
   ]
  },
  {
   "cell_type": "code",
   "execution_count": 5,
   "metadata": {},
   "outputs": [],
   "source": [
    "#공통인자만 추출\n",
    "tic = list(set.intersection(set(industry.columns), set(mkt_cap.columns)))\n",
    "tic = list(set.intersection(set(tic), set(rtn.columns)))\n",
    "tic.sort()"
   ]
  },
  {
   "cell_type": "code",
   "execution_count": 6,
   "metadata": {},
   "outputs": [],
   "source": [
    "#2000년대 이후만 남기기\n",
    "industry = industry[tic].loc['2000-01-01':'2020-07-27'].iloc[1:]\n",
    "mkt_cap = mkt_cap[tic].loc['2000-01-01':'2020-07-27'].iloc[1:]\n",
    "rtn = rtn[tic].loc['2000-01-01':'2020-07-27'].iloc[1:]"
   ]
  },
  {
   "cell_type": "code",
   "execution_count": 7,
   "metadata": {
    "scrolled": true
   },
   "outputs": [
    {
     "data": {
      "application/vnd.jupyter.widget-view+json": {
       "model_id": "a0d47af8f86e4566878dac7c32c6084e",
       "version_major": 2,
       "version_minor": 0
      },
      "text/plain": [
       "HBox(children=(FloatProgress(value=0.0, max=4980.0), HTML(value='')))"
      ]
     },
     "metadata": {},
     "output_type": "display_data"
    },
    {
     "name": "stdout",
     "output_type": "stream",
     "text": [
      "\n"
     ]
    }
   ],
   "source": [
    "month_mkt_cap = makemonth(mkt_cap)"
   ]
  },
  {
   "cell_type": "code",
   "execution_count": 8,
   "metadata": {},
   "outputs": [],
   "source": [
    "#산업 리스트\n",
    "inds = [\"Hardware\", \"Capital Goods\", \"Materials\", \"Software\", \"Consumer Durables & Apparel\", \"Automobiles & Components\", \"Pharmaceuticals & Biotechnology\", \"Diversified Financial Services\", \"Semiconductors\", \"Food, Beverage & Tobacco\", \"Display\", \"Media\", \"Health Care Equipment Services\", \"Energy\", \"Household & Personal Products\", \"Consumer Services\", \"Retailing\", \"Transportation\", \"Commercial Services & Supplies\", \"Capital Markets\", \"Insurance\", \"Utility\", \"Telecommunication Services\", \"Real Estate\"]"
   ]
  },
  {
   "cell_type": "code",
   "execution_count": 9,
   "metadata": {},
   "outputs": [],
   "source": [
    "#한 기 전 mkt_cap 사용\n",
    "month_mkt_cap = month_mkt_cap.shift(1).iloc[1:]"
   ]
  },
  {
   "cell_type": "code",
   "execution_count": 10,
   "metadata": {},
   "outputs": [],
   "source": [
    "#월초값으로 ffill한 mkt_cap\n",
    "month_mkt_cap = month_mkt_cap.fillna(10000)\n",
    "temp = pd.DataFrame(index=mkt_cap.index, columns=mkt_cap.columns)\n",
    "temp.loc[month_mkt_cap.index, :] = month_mkt_cap.values\n",
    "temp = temp.fillna(method='ffill')\n",
    "re_mkt_cap = temp.replace(10000, np.nan)\n",
    "re_mkt_cap = re_mkt_cap.dropna(how = \"all\")"
   ]
  },
  {
   "cell_type": "code",
   "execution_count": 11,
   "metadata": {
    "scrolled": false
   },
   "outputs": [],
   "source": [
    "industry = industry.loc['2000-03-01':'2020-07-27']\n",
    "rtn = rtn.loc['2000-03-01':'2020-07-27']"
   ]
  },
  {
   "cell_type": "code",
   "execution_count": 13,
   "metadata": {
    "scrolled": false
   },
   "outputs": [
    {
     "data": {
      "application/vnd.jupyter.widget-view+json": {
       "model_id": "cccaf9e9b3c44bb7b7c2e99d16b498b2",
       "version_major": 2,
       "version_minor": 0
      },
      "text/plain": [
       "HBox(children=(FloatProgress(value=0.0, max=24.0), HTML(value='')))"
      ]
     },
     "metadata": {},
     "output_type": "display_data"
    },
    {
     "name": "stdout",
     "output_type": "stream",
     "text": [
      "\n"
     ]
    },
    {
     "ename": "MemoryError",
     "evalue": "Unable to allocate 120. MiB for an array with shape (4941, 3177) and data type int64",
     "output_type": "error",
     "traceback": [
      "\u001b[1;31m---------------------------------------------------------------------------\u001b[0m",
      "\u001b[1;31mMemoryError\u001b[0m                               Traceback (most recent call last)",
      "\u001b[1;32m<ipython-input-13-731e3a187844>\u001b[0m in \u001b[0;36m<module>\u001b[1;34m\u001b[0m\n\u001b[0;32m     11\u001b[0m \u001b[1;32mfor\u001b[0m \u001b[0mi\u001b[0m \u001b[1;32min\u001b[0m \u001b[0mnotebook\u001b[0m\u001b[1;33m.\u001b[0m\u001b[0mtqdm\u001b[0m\u001b[1;33m(\u001b[0m\u001b[0mrange\u001b[0m\u001b[1;33m(\u001b[0m\u001b[1;36m24\u001b[0m\u001b[1;33m)\u001b[0m\u001b[1;33m)\u001b[0m\u001b[1;33m:\u001b[0m\u001b[1;33m\u001b[0m\u001b[1;33m\u001b[0m\u001b[0m\n\u001b[0;32m     12\u001b[0m     \u001b[0mtmp_inds\u001b[0m\u001b[1;33m[\u001b[0m\u001b[0mi\u001b[0m\u001b[1;33m]\u001b[0m \u001b[1;33m=\u001b[0m \u001b[0mre_mkt_cap\u001b[0m\u001b[1;33m[\u001b[0m\u001b[0mindustry\u001b[0m\u001b[1;33m==\u001b[0m\u001b[0minds\u001b[0m\u001b[1;33m[\u001b[0m\u001b[0mi\u001b[0m\u001b[1;33m]\u001b[0m\u001b[1;33m]\u001b[0m\u001b[1;33m\u001b[0m\u001b[1;33m\u001b[0m\u001b[0m\n\u001b[1;32m---> 13\u001b[1;33m     \u001b[0mtmp_inds\u001b[0m\u001b[1;33m[\u001b[0m\u001b[0mi\u001b[0m\u001b[1;33m]\u001b[0m \u001b[1;33m=\u001b[0m \u001b[0mtmp_inds\u001b[0m\u001b[1;33m[\u001b[0m\u001b[0mi\u001b[0m\u001b[1;33m]\u001b[0m\u001b[1;33m[\u001b[0m\u001b[0mtmp_inds\u001b[0m\u001b[1;33m[\u001b[0m\u001b[0mi\u001b[0m\u001b[1;33m]\u001b[0m\u001b[1;33m.\u001b[0m\u001b[0mrank\u001b[0m\u001b[1;33m(\u001b[0m\u001b[0mpct\u001b[0m\u001b[1;33m=\u001b[0m\u001b[1;32mTrue\u001b[0m\u001b[1;33m,\u001b[0m\u001b[0maxis\u001b[0m\u001b[1;33m=\u001b[0m\u001b[1;36m1\u001b[0m\u001b[1;33m,\u001b[0m\u001b[0mascending\u001b[0m\u001b[1;33m=\u001b[0m\u001b[1;32mTrue\u001b[0m\u001b[1;33m)\u001b[0m \u001b[1;33m>\u001b[0m \u001b[1;36m0.3\u001b[0m\u001b[1;33m]\u001b[0m\u001b[1;33m\u001b[0m\u001b[1;33m\u001b[0m\u001b[0m\n\u001b[0m\u001b[0;32m     14\u001b[0m     \u001b[0mtmp_inds\u001b[0m\u001b[1;33m[\u001b[0m\u001b[0mi\u001b[0m\u001b[1;33m]\u001b[0m\u001b[1;33m.\u001b[0m\u001b[0mfillna\u001b[0m\u001b[1;33m(\u001b[0m\u001b[1;36m0\u001b[0m\u001b[1;33m,\u001b[0m \u001b[0minplace\u001b[0m \u001b[1;33m=\u001b[0m \u001b[1;32mTrue\u001b[0m\u001b[1;33m)\u001b[0m\u001b[1;33m\u001b[0m\u001b[1;33m\u001b[0m\u001b[0m\n\u001b[0;32m     15\u001b[0m     \u001b[0mtmp_rtn\u001b[0m\u001b[1;33m[\u001b[0m\u001b[0mi\u001b[0m\u001b[1;33m]\u001b[0m \u001b[1;33m=\u001b[0m \u001b[0mrtn\u001b[0m\u001b[1;33m[\u001b[0m\u001b[0mtmp_inds\u001b[0m\u001b[1;33m[\u001b[0m\u001b[0mi\u001b[0m\u001b[1;33m]\u001b[0m \u001b[1;33m!=\u001b[0m \u001b[1;36m0\u001b[0m\u001b[1;33m]\u001b[0m\u001b[1;33m\u001b[0m\u001b[1;33m\u001b[0m\u001b[0m\n",
      "\u001b[1;32m~\\anaconda3\\lib\\site-packages\\pandas\\core\\generic.py\u001b[0m in \u001b[0;36mrank\u001b[1;34m(self, axis, method, numeric_only, na_option, ascending, pct)\u001b[0m\n\u001b[0;32m   8348\u001b[0m         \u001b[1;32mif\u001b[0m \u001b[0mnumeric_only\u001b[0m \u001b[1;32mis\u001b[0m \u001b[1;32mNone\u001b[0m\u001b[1;33m:\u001b[0m\u001b[1;33m\u001b[0m\u001b[1;33m\u001b[0m\u001b[0m\n\u001b[0;32m   8349\u001b[0m             \u001b[1;32mtry\u001b[0m\u001b[1;33m:\u001b[0m\u001b[1;33m\u001b[0m\u001b[1;33m\u001b[0m\u001b[0m\n\u001b[1;32m-> 8350\u001b[1;33m                 \u001b[1;32mreturn\u001b[0m \u001b[0mranker\u001b[0m\u001b[1;33m(\u001b[0m\u001b[0mself\u001b[0m\u001b[1;33m)\u001b[0m\u001b[1;33m\u001b[0m\u001b[1;33m\u001b[0m\u001b[0m\n\u001b[0m\u001b[0;32m   8351\u001b[0m             \u001b[1;32mexcept\u001b[0m \u001b[0mTypeError\u001b[0m\u001b[1;33m:\u001b[0m\u001b[1;33m\u001b[0m\u001b[1;33m\u001b[0m\u001b[0m\n\u001b[0;32m   8352\u001b[0m                 \u001b[0mnumeric_only\u001b[0m \u001b[1;33m=\u001b[0m \u001b[1;32mTrue\u001b[0m\u001b[1;33m\u001b[0m\u001b[1;33m\u001b[0m\u001b[0m\n",
      "\u001b[1;32m~\\anaconda3\\lib\\site-packages\\pandas\\core\\generic.py\u001b[0m in \u001b[0;36mranker\u001b[1;34m(data)\u001b[0m\n\u001b[0;32m   8333\u001b[0m \u001b[1;33m\u001b[0m\u001b[0m\n\u001b[0;32m   8334\u001b[0m         \u001b[1;32mdef\u001b[0m \u001b[0mranker\u001b[0m\u001b[1;33m(\u001b[0m\u001b[0mdata\u001b[0m\u001b[1;33m)\u001b[0m\u001b[1;33m:\u001b[0m\u001b[1;33m\u001b[0m\u001b[1;33m\u001b[0m\u001b[0m\n\u001b[1;32m-> 8335\u001b[1;33m             ranks = algos.rank(\n\u001b[0m\u001b[0;32m   8336\u001b[0m                 \u001b[0mdata\u001b[0m\u001b[1;33m.\u001b[0m\u001b[0mvalues\u001b[0m\u001b[1;33m,\u001b[0m\u001b[1;33m\u001b[0m\u001b[1;33m\u001b[0m\u001b[0m\n\u001b[0;32m   8337\u001b[0m                 \u001b[0maxis\u001b[0m\u001b[1;33m=\u001b[0m\u001b[0maxis\u001b[0m\u001b[1;33m,\u001b[0m\u001b[1;33m\u001b[0m\u001b[1;33m\u001b[0m\u001b[0m\n",
      "\u001b[1;32m~\\anaconda3\\lib\\site-packages\\pandas\\core\\algorithms.py\u001b[0m in \u001b[0;36mrank\u001b[1;34m(values, axis, method, na_option, ascending, pct)\u001b[0m\n\u001b[0;32m    892\u001b[0m     \u001b[1;32melif\u001b[0m \u001b[0mvalues\u001b[0m\u001b[1;33m.\u001b[0m\u001b[0mndim\u001b[0m \u001b[1;33m==\u001b[0m \u001b[1;36m2\u001b[0m\u001b[1;33m:\u001b[0m\u001b[1;33m\u001b[0m\u001b[1;33m\u001b[0m\u001b[0m\n\u001b[0;32m    893\u001b[0m         \u001b[0mvalues\u001b[0m \u001b[1;33m=\u001b[0m \u001b[0m_get_values_for_rank\u001b[0m\u001b[1;33m(\u001b[0m\u001b[0mvalues\u001b[0m\u001b[1;33m)\u001b[0m\u001b[1;33m\u001b[0m\u001b[1;33m\u001b[0m\u001b[0m\n\u001b[1;32m--> 894\u001b[1;33m         ranks = algos.rank_2d(\n\u001b[0m\u001b[0;32m    895\u001b[0m             \u001b[0mvalues\u001b[0m\u001b[1;33m,\u001b[0m\u001b[1;33m\u001b[0m\u001b[1;33m\u001b[0m\u001b[0m\n\u001b[0;32m    896\u001b[0m             \u001b[0maxis\u001b[0m\u001b[1;33m=\u001b[0m\u001b[0maxis\u001b[0m\u001b[1;33m,\u001b[0m\u001b[1;33m\u001b[0m\u001b[1;33m\u001b[0m\u001b[0m\n",
      "\u001b[1;32mpandas\\_libs\\algos.pyx\u001b[0m in \u001b[0;36mpandas._libs.algos.rank_2d\u001b[1;34m()\u001b[0m\n",
      "\u001b[1;31mMemoryError\u001b[0m: Unable to allocate 120. MiB for an array with shape (4941, 3177) and data type int64"
     ]
    }
   ],
   "source": [
    "#weight 추출\n",
    "\n",
    "#변수 설정\n",
    "tmp_inds = [[] for _ in range(24)]\n",
    "tmp_rtn = [[] for _ in range(24)]\n",
    "\n",
    "#함수 설정\n",
    "div = lambda x : x / x.sum()\n",
    "\n",
    "#weight 추출\n",
    "for i in notebook.tqdm(range(24)):\n",
    "    tmp_inds[i] = re_mkt_cap[industry==inds[i]]\n",
    "    tmp_inds[i] = tmp_inds[i][tmp_inds[i].rank(pct=True,axis=1,ascending=True) > 0.3]\n",
    "    tmp_inds[i].fillna(0, inplace = True)\n",
    "    tmp_rtn[i] = rtn[tmp_inds[i] != 0]\n",
    "    tmp_rtn[i] = tmp_inds[i].apply(div, axis=1) * tmp_rtn[i]"
   ]
  },
  {
   "cell_type": "code",
   "execution_count": null,
   "metadata": {},
   "outputs": [],
   "source": [
    "del tmp_inds"
   ]
  },
  {
   "cell_type": "code",
   "execution_count": null,
   "metadata": {
    "scrolled": true
   },
   "outputs": [],
   "source": [
    "#weight 추출\n",
    "\n",
    "#변수 설정\n",
    "all_tmp_inds = [[] for _ in range(24)]\n",
    "all_tmp_rtn = [[] for _ in range(24)]\n",
    "all_tmp_signal = [[] for _ in range(24)]\n",
    "\n",
    "#함수 설정\n",
    "div = lambda x : x / x.sum()\n",
    "\n",
    "#weight 추출\n",
    "for i in notebook.tqdm(range(24)):\n",
    "    all_tmp_inds[i] = re_mkt_cap[industry==inds[i]]\n",
    "    all_tmp_inds[i].fillna(0, inplace = True)\n",
    "    all_tmp_rtn[i] = rtn[all_tmp_inds[i] != 0]\n",
    "    all_tmp_signal[i] = all_tmp_inds[i].apply(div, axis=1) * all_tmp_rtn[i]"
   ]
  },
  {
   "cell_type": "markdown",
   "metadata": {},
   "source": [
    "산업군 24개가 있어\n",
    "->> t-1 mkt_cap 상위 30% -> VW 투자 ( 24개 ) \n",
    "->> 3개씩 EW 투자한 포트폴리오 8개(Q1, Q2 ~ Q8)"
   ]
  },
  {
   "cell_type": "code",
   "execution_count": null,
   "metadata": {},
   "outputs": [],
   "source": [
    "#산업별 투자수익률 넣을 빈 데이터 프레임 생성\n",
    "temp = pd.DataFrame(index=re_mkt_cap.index, columns=inds)\n",
    "\n",
    "for i in range(24):\n",
    "    temp[inds[i]] = tmp_rtn[i].sum(axis=1)"
   ]
  },
  {
   "cell_type": "code",
   "execution_count": null,
   "metadata": {},
   "outputs": [],
   "source": [
    "real_rtn = pd.DataFrame(index=re_mkt_cap.index, columns=inds)\n",
    "for i in range(24):\n",
    "    real_rtn[inds[i]] = all_tmp_rtn[i].sum(axis=1)\n",
    "    \n",
    "#real_signal = pd.DataFrame(index=re_mkt_cap.index, columns=inds)\n",
    "#for i in range(24):\n",
    "#    real_signal[inds[i]] = all_tmp_signal[i].sum(axis=1)"
   ]
  },
  {
   "cell_type": "code",
   "execution_count": null,
   "metadata": {},
   "outputs": [],
   "source": [
    "del all_tmp_rtn\n",
    "del all_tmp_inds\n",
    "del all_tmp_signal"
   ]
  },
  {
   "cell_type": "code",
   "execution_count": null,
   "metadata": {
    "scrolled": false
   },
   "outputs": [],
   "source": [
    "signal = makemonth(temp)\n",
    "r_rtn = makemonth(real_signal)"
   ]
  },
  {
   "cell_type": "code",
   "execution_count": null,
   "metadata": {},
   "outputs": [],
   "source": [
    "#분위 추출\n",
    "def makedecile(x):\n",
    "    return pd.qcut(x,8,labels=False,duplicates='drop')\n",
    "decile = signal.apply(makedecile, axis=1)"
   ]
  },
  {
   "cell_type": "code",
   "execution_count": null,
   "metadata": {
    "scrolled": false
   },
   "outputs": [],
   "source": [
    "shift_decile = decile.shift(1)"
   ]
  },
  {
   "cell_type": "code",
   "execution_count": null,
   "metadata": {},
   "outputs": [],
   "source": [
    "#분위별 수익률 추출\n",
    "rtn_decile = [[] for _ in range(24)]\n",
    "for i in range(8):\n",
    "    rtn_decile[i] = r_rtn[shift_decile == i].mean(axis=1)"
   ]
  },
  {
   "cell_type": "code",
   "execution_count": null,
   "metadata": {},
   "outputs": [],
   "source": [
    "#분위별 수익률 넣을 데이터프레임 만들기\n",
    "Quantile = [\"Q1\",\"Q2\",\"Q3\",\"Q4\",\"Q5\",\"Q6\",\"Q7\",\"Q8\"]\n",
    "rtn_signal = pd.DataFrame(index=signal.index, columns = Quantile)"
   ]
  },
  {
   "cell_type": "code",
   "execution_count": null,
   "metadata": {
    "scrolled": true
   },
   "outputs": [],
   "source": [
    "#분위별 수익률 데이터프레임에 넣기\n",
    "for i in range(8):\n",
    "    rtn_signal[Quantile[i]] = rtn_decile[i]"
   ]
  },
  {
   "cell_type": "code",
   "execution_count": null,
   "metadata": {
    "scrolled": true
   },
   "outputs": [],
   "source": [
    "anomaly_return = rtn_signal['Q8'] - rtn_signal['Q1']\n",
    "pd.DataFrame(anomaly_return.values.tolist(), index=anomaly_return.index)\n",
    "anomaly_return=anomaly_return.apply(pd.Series)\n",
    "anomaly_return.columns = ['10-1 portfolio']"
   ]
  },
  {
   "cell_type": "code",
   "execution_count": null,
   "metadata": {
    "scrolled": true
   },
   "outputs": [],
   "source": [
    "((anomaly_return + 1).cumprod() - 1).plot(figsize=(16,10))"
   ]
  },
  {
   "cell_type": "code",
   "execution_count": null,
   "metadata": {
    "scrolled": false
   },
   "outputs": [],
   "source": [
    "((rtn_signal + 1).cumprod() - 1).plot(figsize=(16,10))"
   ]
  }
 ],
 "metadata": {
  "kernelspec": {
   "display_name": "Python 3",
   "language": "python",
   "name": "python3"
  },
  "language_info": {
   "codemirror_mode": {
    "name": "ipython",
    "version": 3
   },
   "file_extension": ".py",
   "mimetype": "text/x-python",
   "name": "python",
   "nbconvert_exporter": "python",
   "pygments_lexer": "ipython3",
   "version": "3.8.3"
  }
 },
 "nbformat": 4,
 "nbformat_minor": 4
}
